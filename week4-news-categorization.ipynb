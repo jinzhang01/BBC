{
 "cells": [
  {
   "cell_type": "markdown",
   "metadata": {},
   "source": [
    "## 1. Exploratory Data Analysis (EDA) — Inspect, Visualize, and Clean the Data\n",
    "\n",
    "### 1.1. Data Import and Basic Inspection\n",
    "\n",
    "First, import the necessary libraries and load the dataset."
   ]
  },
  {
   "cell_type": "code",
   "execution_count": 1,
   "metadata": {},
   "outputs": [
    {
     "name": "stdout",
     "output_type": "stream",
     "text": [
      "   ArticleId                                               Text  Category\n",
      "0       1833  worldcom ex-boss launches defence lawyers defe...  business\n",
      "1        154  german business confidence slides german busin...  business\n",
      "2       1101  bbc poll indicates economic gloom citizens in ...  business\n",
      "3       1976  lifestyle  governs mobile choice  faster  bett...      tech\n",
      "4        917  enron bosses in $168m payout eighteen former e...  business\n",
      "<class 'pandas.core.frame.DataFrame'>\n",
      "RangeIndex: 1490 entries, 0 to 1489\n",
      "Data columns (total 3 columns):\n",
      " #   Column     Non-Null Count  Dtype \n",
      "---  ------     --------------  ----- \n",
      " 0   ArticleId  1490 non-null   int64 \n",
      " 1   Text       1490 non-null   object\n",
      " 2   Category   1490 non-null   object\n",
      "dtypes: int64(1), object(2)\n",
      "memory usage: 35.0+ KB\n",
      "None\n",
      "   ArticleId                                               Text\n",
      "0       1018  qpr keeper day heads for preston queens park r...\n",
      "1       1319  software watching while you work software that...\n",
      "2       1138  d arcy injury adds to ireland woe gordon d arc...\n",
      "3        459  india s reliance family feud heats up the ongo...\n",
      "4       1020  boro suffer morrison injury blow middlesbrough...\n",
      "<class 'pandas.core.frame.DataFrame'>\n",
      "RangeIndex: 735 entries, 0 to 734\n",
      "Data columns (total 2 columns):\n",
      " #   Column     Non-Null Count  Dtype \n",
      "---  ------     --------------  ----- \n",
      " 0   ArticleId  735 non-null    int64 \n",
      " 1   Text       735 non-null    object\n",
      "dtypes: int64(1), object(1)\n",
      "memory usage: 11.6+ KB\n",
      "None\n"
     ]
    }
   ],
   "source": [
    "import pandas as pd\n",
    "\n",
    "# Load the datasets\n",
    "train_data = pd.read_csv('../data/BBC News Train.csv')\n",
    "test_data = pd.read_csv('../data/BBC News Test.csv')\n",
    "\n",
    "# Basic inspection of the data\n",
    "print(train_data.head())\n",
    "print(train_data.info())\n",
    "print(test_data.head())\n",
    "print(test_data.info())"
   ]
  },
  {
   "cell_type": "markdown",
   "metadata": {},
   "source": [
    "### 1.2. Inspect Null Values\n",
    "\n",
    "Check if there are any null values in the dataset."
   ]
  },
  {
   "cell_type": "code",
   "execution_count": 2,
   "metadata": {},
   "outputs": [
    {
     "name": "stdout",
     "output_type": "stream",
     "text": [
      "ArticleId    0\n",
      "Text         0\n",
      "Category     0\n",
      "dtype: int64\n",
      "ArticleId    0\n",
      "Text         0\n",
      "dtype: int64\n"
     ]
    }
   ],
   "source": [
    "# Check for null values in the training set\n",
    "print(train_data.isnull().sum())\n",
    "\n",
    "# Check for null values in the test set\n",
    "print(test_data.isnull().sum())"
   ]
  },
  {
   "cell_type": "markdown",
   "metadata": {},
   "source": [
    "### 1.3. Assign the Categories with Numbers\n",
    "\n",
    "Assign numerical labels to the categories for easier processing."
   ]
  },
  {
   "cell_type": "code",
   "execution_count": 3,
   "metadata": {},
   "outputs": [
    {
     "name": "stdout",
     "output_type": "stream",
     "text": [
      "   ArticleId                                               Text  Category  \\\n",
      "0       1833  worldcom ex-boss launches defence lawyers defe...  business   \n",
      "1        154  german business confidence slides german busin...  business   \n",
      "2       1101  bbc poll indicates economic gloom citizens in ...  business   \n",
      "3       1976  lifestyle  governs mobile choice  faster  bett...      tech   \n",
      "4        917  enron bosses in $168m payout eighteen former e...  business   \n",
      "\n",
      "   CategoryID  \n",
      "0           0  \n",
      "1           0  \n",
      "2           0  \n",
      "3           1  \n",
      "4           0  \n"
     ]
    }
   ],
   "source": [
    "# Assign numerical labels to categories in the training set\n",
    "train_data['CategoryID'] = train_data['Category'].factorize()[0]\n",
    "\n",
    "# Display the updated dataset\n",
    "print(train_data.head())"
   ]
  },
  {
   "cell_type": "markdown",
   "metadata": {},
   "source": [
    "\n",
    "### 1.4. Clean Data\n",
    "\n",
    "Perform data cleaning tasks such as removing punctuations, numbers, extra spaces, and applying lemmatization."
   ]
  },
  {
   "cell_type": "code",
   "execution_count": null,
   "metadata": {},
   "outputs": [],
   "source": [
    "import string\n",
    "import nltk\n",
    "from nltk.corpus import stopwords\n",
    "from nltk.stem import WordNetLemmatizer\n",
    "\n",
    "nltk.download('punkt')\n",
    "nltk.download('stopwords')\n",
    "nltk.download('wordnet')\n",
    "\n",
    "lemmatizer = WordNetLemmatizer()\n",
    "stop_words = set(stopwords.words('english'))\n",
    "\n",
    "\n",
    "# Define a function to clean the text data\n",
    "def clean_text(text):\n",
    "    # Remove punctuation\n",
    "    text = text.translate(str.maketrans('', '', string.punctuation))\n",
    "    # Tokenize the text\n",
    "    words = nltk.word_tokenize(text)\n",
    "    # Remove stopwords and numbers, and apply lemmatization\n",
    "    words = [lemmatizer.lemmatize(word.lower()) for word in words if word.isalpha() and word not in stop_words]\n",
    "    return ' '.join(words)\n",
    "\n",
    "# Apply the cleaning function to the text data\n",
    "train_data['CleanedText'] = train_data['Text'].apply(clean_text)\n",
    "test_data['CleanedText'] = test_data['Text'].apply(clean_text)\n",
    "\n",
    "# Display the cleaned text\n",
    "print(train_data['CleanedText'].head())"
   ]
  },
  {
   "cell_type": "markdown",
   "metadata": {},
   "source": [
    "### 1.5. Plan for Feature Extraction\n",
    "\n",
    "Use TF-IDF to convert the cleaned text data into numerical features."
   ]
  },
  {
   "cell_type": "code",
   "execution_count": null,
   "metadata": {},
   "outputs": [
    {
     "name": "stdout",
     "output_type": "stream",
     "text": [
      "(1490, 5000)\n",
      "(735, 5000)\n"
     ]
    }
   ],
   "source": [
    "from sklearn.feature_extraction.text import TfidfVectorizer\n",
    "\n",
    "# Initialize the TF-IDF vectorizer\n",
    "tfidf_vectorizer = TfidfVectorizer(max_features=5000)\n",
    "\n",
    "# Transform the cleaned text data\n",
    "X_train_tfidf = tfidf_vectorizer.fit_transform(train_data['CleanedText'])\n",
    "X_test_tfidf = tfidf_vectorizer.transform(test_data['CleanedText'])\n",
    "\n",
    "# Display the shape of the resulting matrices\n",
    "print(X_train_tfidf.shape)\n",
    "print(X_test_tfidf.shape)"
   ]
  },
  {
   "cell_type": "markdown",
   "metadata": {},
   "source": [
    "## 2. Building and Training Models\n"
   ]
  },
  {
   "cell_type": "markdown",
   "metadata": {},
   "source": [
    "### 2.1. Train with Unsupervised Learning\n",
    "\n",
    "Apply K-Means clustering as an unsupervised learning technique."
   ]
  },
  {
   "cell_type": "code",
   "execution_count": null,
   "metadata": {},
   "outputs": [
    {
     "name": "stdout",
     "output_type": "stream",
     "text": [
      "[2 2 2 ... 2 3 3]\n"
     ]
    }
   ],
   "source": [
    "from sklearn.cluster import KMeans\n",
    "\n",
    "# Apply K-Means clustering\n",
    "kmeans_model = KMeans(n_clusters=5, random_state=42)\n",
    "kmeans_model.fit(X_train_tfidf)\n",
    "\n",
    "# Predict clusters\n",
    "train_clusters = kmeans_model.predict(X_train_tfidf)\n",
    "print(train_clusters)"
   ]
  },
  {
   "cell_type": "markdown",
   "metadata": {},
   "source": [
    "### 2.2. Tuning Hyperparameters\n",
    "\n",
    "Search for the optimal number of clusters by evaluating cluster quality."
   ]
  },
  {
   "cell_type": "code",
   "execution_count": null,
   "metadata": {},
   "outputs": [
    {
     "name": "stdout",
     "output_type": "stream",
     "text": [
      "For n_clusters = 2, the silhouette score is 0.010794425527664082\n",
      "For n_clusters = 3, the silhouette score is 0.011132260711896545\n",
      "For n_clusters = 4, the silhouette score is 0.013941165180589974\n",
      "For n_clusters = 5, the silhouette score is 0.017519291187052255\n",
      "For n_clusters = 6, the silhouette score is 0.016747537465265916\n",
      "For n_clusters = 7, the silhouette score is 0.016457794125104303\n",
      "For n_clusters = 8, the silhouette score is 0.0175132881768049\n",
      "For n_clusters = 9, the silhouette score is 0.018146497946142398\n",
      "For n_clusters = 10, the silhouette score is 0.018414819902694498\n"
     ]
    }
   ],
   "source": [
    "from sklearn.metrics import silhouette_score\n",
    "\n",
    "# Evaluate the silhouette score for different numbers of clusters\n",
    "for n_clusters in range(2, 11):\n",
    "    kmeans_model = KMeans(n_clusters=n_clusters, random_state=42)\n",
    "    kmeans_model.fit(X_train_tfidf)\n",
    "    silhouette_avg = silhouette_score(X_train_tfidf, kmeans_model.labels_)\n",
    "    print(f\"For n_clusters = {n_clusters}, the silhouette score is {silhouette_avg}\")"
   ]
  },
  {
   "cell_type": "markdown",
   "metadata": {},
   "source": [
    "## 3. Compare with Supervised Learning\n"
   ]
  },
  {
   "cell_type": "markdown",
   "metadata": {},
   "source": [
    "### 3.1. Supervised Learning\n",
    "\n",
    "Use Logistic Regression as a supervised learning technique."
   ]
  },
  {
   "cell_type": "code",
   "execution_count": null,
   "metadata": {},
   "outputs": [
    {
     "name": "stdout",
     "output_type": "stream",
     "text": [
      "Logistic Regression accuracy: 0.9959731543624161\n"
     ]
    }
   ],
   "source": [
    "from sklearn.linear_model import LogisticRegression\n",
    "from sklearn.metrics import accuracy_score\n",
    "\n",
    "# Train Logistic Regression model\n",
    "log_reg = LogisticRegression(random_state=42)\n",
    "log_reg.fit(X_train_tfidf, train_data['CategoryID'])\n",
    "\n",
    "# Predict on the training data\n",
    "train_pred = log_reg.predict(X_train_tfidf)\n",
    "\n",
    "# Evaluate the performance\n",
    "print(\"Logistic Regression accuracy:\", accuracy_score(train_data['CategoryID'], train_pred))"
   ]
  },
  {
   "cell_type": "markdown",
   "metadata": {},
   "source": [
    "### 3.3. Compare with Other Models\n",
    "\n",
    "Compare Logistic Regression with other models such as Random Forest, SVM, etc."
   ]
  },
  {
   "cell_type": "code",
   "execution_count": null,
   "metadata": {},
   "outputs": [
    {
     "name": "stdout",
     "output_type": "stream",
     "text": [
      "Random Forest accuracy: 1.0\n",
      "SVM accuracy: 1.0\n"
     ]
    }
   ],
   "source": [
    "from sklearn.ensemble import RandomForestClassifier\n",
    "from sklearn.svm import SVC\n",
    "\n",
    "# Train and evaluate other models\n",
    "models = {\n",
    "    \"Random Forest\": RandomForestClassifier(random_state=42),\n",
    "    \"SVM\": SVC(random_state=42)\n",
    "}\n",
    "\n",
    "for model_name, model in models.items():\n",
    "    model.fit(X_train_tfidf, train_data['CategoryID'])\n",
    "    predictions = model.predict(X_train_tfidf)\n",
    "    print(f\"{model_name} accuracy:\", accuracy_score(train_data['CategoryID'], predictions))"
   ]
  },
  {
   "cell_type": "markdown",
   "metadata": {},
   "source": [
    "## 4. Prediction\n",
    "\n",
    "Use the trained models to predict the categories for the test data.\n"
   ]
  },
  {
   "cell_type": "code",
   "execution_count": null,
   "metadata": {},
   "outputs": [
    {
     "name": "stdout",
     "output_type": "stream",
     "text": [
      "                                                  Text       Category\n",
      "0    qpr keeper day heads for preston queens park r...          sport\n",
      "1    software watching while you work software that...           tech\n",
      "2    d arcy injury adds to ireland woe gordon d arc...          sport\n",
      "3    india s reliance family feud heats up the ongo...       business\n",
      "4    boro suffer morrison injury blow middlesbrough...          sport\n",
      "..                                                 ...            ...\n",
      "730  eu to probe alitalia  state aid  the european ...       business\n",
      "731  u2 to play at grammy awards show irish rock ba...  entertainment\n",
      "732  sport betting rules in spotlight a group of mp...       politics\n",
      "733  alfa romeos  to get gm engines  fiat is to sto...       business\n",
      "734  citizenship event for 18s touted citizenship c...       politics\n",
      "\n",
      "[735 rows x 2 columns]\n"
     ]
    }
   ],
   "source": [
    "# Predict categories for the test data using the best model (e.g., Logistic Regression)\n",
    "test_predictions = log_reg.predict(X_test_tfidf)\n",
    "\n",
    "# Add predictions to the test dataframe\n",
    "test_data['Category'] = test_predictions\n",
    "\n",
    "# Map the numeric predictions back to the original categories\n",
    "category_mapping = dict(enumerate(train_data['Category'].unique()))\n",
    "test_data['Category'] = test_data['Category'].map(category_mapping)\n",
    "\n",
    "# Display the final test data with predictions\n",
    "print(test_data[['Text', 'Category']])\n",
    "\n",
    "test_data.drop(['CleanedText', 'Text'], axis = 1).to_csv('submission.csv', index = False)\n"
   ]
  },
  {
   "cell_type": "code",
   "execution_count": null,
   "metadata": {},
   "outputs": [
    {
     "data": {
      "image/png": "[encoded data removed]",
      "text/plain": [
       "<IPython.core.display.Image object>"
      ]
     },
     "execution_count": 39,
     "metadata": {},
     "output_type": "execute_result"
    }
   ],
   "source": [
    "from IPython.display import Image\n",
    "Image(filename='Untitled.png') "
   ]
  },
  {
   "cell_type": "markdown",
   "metadata": {},
   "source": []
  }
 ],
 "metadata": {
  "kernelspec": {
   "display_name": ".venv",
   "language": "python",
   "name": "python3"
  },
  "language_info": {
   "codemirror_mode": {
    "name": "ipython",
    "version": 3
   },
   "file_extension": ".py",
   "mimetype": "text/x-python",
   "name": "python",
   "nbconvert_exporter": "python",
   "pygments_lexer": "ipython3",
   "version": "3.9.19"
  }
 },
 "nbformat": 4,
 "nbformat_minor": 2
}
